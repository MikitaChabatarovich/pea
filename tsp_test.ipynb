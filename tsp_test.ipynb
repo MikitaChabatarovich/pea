{
 "cells": [
  {
   "cell_type": "code",
   "execution_count": 1,
   "metadata": {},
   "outputs": [],
   "source": [
    "from tsp import TSP"
   ]
  },
  {
   "cell_type": "markdown",
   "metadata": {},
   "source": [
    "\n",
    " 6\t132\n",
    " \n",
    " \n",
    "10\t212\n",
    "\n",
    "\n",
    "12\t264\n",
    "\n",
    "\n",
    "13\t269\n",
    "\n",
    "\n",
    "14\t282\n",
    "\n",
    "\n",
    "15\t291\n",
    "\n",
    "\n",
    "17\t39"
   ]
  },
  {
   "cell_type": "code",
   "execution_count": 2,
   "metadata": {},
   "outputs": [],
   "source": [
    "filename = 'test/10_test.txt'"
   ]
  },
  {
   "cell_type": "code",
   "execution_count": 3,
   "metadata": {},
   "outputs": [],
   "source": [
    "tsp = TSP(filename=filename)"
   ]
  },
  {
   "cell_type": "code",
   "execution_count": 4,
   "metadata": {},
   "outputs": [
    {
     "name": "stdout",
     "output_type": "stream",
     "text": [
      "1.91 s ± 0 ns per loop (mean ± std. dev. of 1 run, 5 loops each)\n"
     ]
    }
   ],
   "source": [
    "%timeit -n 5 -r 1 tsp.Brute_Force()"
   ]
  },
  {
   "cell_type": "code",
   "execution_count": 5,
   "metadata": {},
   "outputs": [
    {
     "name": "stdout",
     "output_type": "stream",
     "text": [
      "Shortest tour is: [3, 4, 2, 8, 7, 6, 9, 1, 5]\n",
      "It has a length of: 212 km\n"
     ]
    }
   ],
   "source": [
    "tsp.print_result()"
   ]
  },
  {
   "cell_type": "markdown",
   "metadata": {},
   "source": [
    "# SIMULATED ANEALING\n"
   ]
  },
  {
   "cell_type": "code",
   "execution_count": 6,
   "metadata": {},
   "outputs": [],
   "source": [
    "from simulated_annealing import SimulatedAnnealing, read_matrix\n",
    "import matplotlib.pyplot as plt\n",
    "import seaborn as sns\n",
    "%matplotlib inline"
   ]
  },
  {
   "cell_type": "code",
   "execution_count": 7,
   "metadata": {},
   "outputs": [],
   "source": [
    "cities = read_matrix('test/10_test.txt')"
   ]
  },
  {
   "cell_type": "code",
   "execution_count": 8,
   "metadata": {},
   "outputs": [],
   "source": [
    "init_T = 10**5\n",
    "cooling_factor = 0.99\n",
    "end_T=0.1"
   ]
  },
  {
   "cell_type": "code",
   "execution_count": 9,
   "metadata": {},
   "outputs": [
    {
     "name": "stdout",
     "output_type": "stream",
     "text": [
      "[5, 8, 7, 6, 1, 9, 2, 4, 3] 243\n"
     ]
    }
   ],
   "source": [
    "tour, length = SimulatedAnnealing(cities=cities, init_T=init_T, end_T=end_T, cooling_factor=cooling_factor)\n",
    "print(tour, length)"
   ]
  },
  {
   "cell_type": "code",
   "execution_count": 10,
   "metadata": {},
   "outputs": [
    {
     "name": "stdout",
     "output_type": "stream",
     "text": [
      "10.9 ms ± 0 ns per loop (mean ± std. dev. of 1 run, 30 loops each)\n"
     ]
    }
   ],
   "source": [
    "%timeit -n 30 -r 1 SimulatedAnnealing(cities=cities, init_T=init_T, end_T=end_T, cooling_factor=cooling_factor)"
   ]
  },
  {
   "cell_type": "code",
   "execution_count": 11,
   "metadata": {},
   "outputs": [],
   "source": [
    "listlens = []\n",
    "for _ in range(1000):\n",
    "    tour, length = SimulatedAnnealing(cities=cities, init_T=init_T, end_T=end_T, cooling_factor=cooling_factor)\n",
    "    listlens.append(length)"
   ]
  },
  {
   "cell_type": "code",
   "execution_count": 12,
   "metadata": {},
   "outputs": [
    {
     "data": {
      "text/plain": [
       "<matplotlib.axes._subplots.AxesSubplot at 0x7f9659dcc048>"
      ]
     },
     "execution_count": 12,
     "metadata": {},
     "output_type": "execute_result"
    },
    {
     "data": {
      "image/png": "[encoded data removed]",
      "text/plain": [
       "<Figure size 432x288 with 1 Axes>"
      ]
     },
     "metadata": {
      "needs_background": "light"
     },
     "output_type": "display_data"
    }
   ],
   "source": [
    "sns.distplot(listlens, bins=20, kde=False)"
   ]
  },
  {
   "cell_type": "code",
   "execution_count": 13,
   "metadata": {},
   "outputs": [
    {
     "data": {
      "text/plain": [
       "<matplotlib.axes._subplots.AxesSubplot at 0x7f9657d0c208>"
      ]
     },
     "execution_count": 13,
     "metadata": {},
     "output_type": "execute_result"
    },
    {
     "data": {
      "image/png": "[encoded data removed]",
      "text/plain": [
       "<Figure size 432x288 with 1 Axes>"
      ]
     },
     "metadata": {
      "needs_background": "light"
     },
     "output_type": "display_data"
    }
   ],
   "source": [
    "listlens = []\n",
    "tour, length = SimulatedAnnealing(cities=cities, init_T=init_T, end_T=end_T, cooling_factor=cooling_factor)\n",
    "listlens.append(length)\n",
    "for _ in range(1000):\n",
    "    tour, length = SimulatedAnnealing(cities=cities, init_T=init_T, end_T=end_T, cooling_factor=cooling_factor,\n",
    "                                     init_state=tour)\n",
    "    listlens.append(length)\n",
    "sns.distplot(listlens, bins=20, kde=False)"
   ]
  },
  {
   "cell_type": "code",
   "execution_count": 14,
   "metadata": {},
   "outputs": [
    {
     "name": "stdout",
     "output_type": "stream",
     "text": [
      "[5, 1, 9, 6, 7, 8, 2, 4, 3] 212\n"
     ]
    }
   ],
   "source": [
    "print(tour, length)"
   ]
  },
  {
   "cell_type": "code",
   "execution_count": 15,
   "metadata": {},
   "outputs": [
    {
     "data": {
      "text/plain": [
       "212"
      ]
     },
     "execution_count": 15,
     "metadata": {},
     "output_type": "execute_result"
    }
   ],
   "source": [
    "min(listlens)"
   ]
  },
  {
   "cell_type": "code",
   "execution_count": 28,
   "metadata": {},
   "outputs": [],
   "source": [
    "cities12 = read_matrix('test/12_test.txt') #264"
   ]
  },
  {
   "cell_type": "code",
   "execution_count": 48,
   "metadata": {},
   "outputs": [
    {
     "name": "stdout",
     "output_type": "stream",
     "text": [
      "[10, 3, 5, 8, 4, 6, 2, 11, 9, 7, 1] 296\n"
     ]
    }
   ],
   "source": [
    "tour, length = SimulatedAnnealing(cities=cities12, init_T=init_T, end_T=end_T, cooling_factor=cooling_factor)\n",
    "print(tour, length)"
   ]
  },
  {
   "cell_type": "code",
   "execution_count": 49,
   "metadata": {},
   "outputs": [],
   "source": [
    "cities13 = read_matrix('test/13_test.txt') #269"
   ]
  },
  {
   "cell_type": "code",
   "execution_count": 50,
   "metadata": {},
   "outputs": [
    {
     "name": "stdout",
     "output_type": "stream",
     "text": [
      "[8, 4, 6, 2, 11, 9, 7, 5, 3, 10, 1, 12] 309\n"
     ]
    }
   ],
   "source": [
    "tour, length = SimulatedAnnealing(cities=cities13, init_T=init_T, end_T=end_T, cooling_factor=cooling_factor)\n",
    "print(tour, length)"
   ]
  },
  {
   "cell_type": "code",
   "execution_count": 51,
   "metadata": {},
   "outputs": [],
   "source": [
    "cities15 = read_matrix('test/15_test.txt') #291"
   ]
  },
  {
   "cell_type": "code",
   "execution_count": 52,
   "metadata": {},
   "outputs": [
    {
     "name": "stdout",
     "output_type": "stream",
     "text": [
      "[12, 1, 14, 8, 4, 6, 2, 11, 13, 9, 7, 5, 3, 10] 291\n"
     ]
    }
   ],
   "source": [
    "tour, length = SimulatedAnnealing(cities=cities15, init_T=init_T, end_T=end_T, cooling_factor=cooling_factor)\n",
    "print(tour, length)"
   ]
  },
  {
   "cell_type": "code",
   "execution_count": 53,
   "metadata": {},
   "outputs": [],
   "source": [
    "cities17 = read_matrix('test/17_test.txt') #39"
   ]
  },
  {
   "cell_type": "code",
   "execution_count": 85,
   "metadata": {},
   "outputs": [
    {
     "name": "stdout",
     "output_type": "stream",
     "text": [
      "[11, 5, 6, 8, 16, 1, 12, 13, 2, 10, 9, 15, 14, 4, 3, 7] 58\n"
     ]
    }
   ],
   "source": [
    "tour, length = SimulatedAnnealing(cities=cities17, init_T=init_T, end_T=end_T, cooling_factor=cooling_factor)\n",
    "print(tour, length)"
   ]
  },
  {
   "cell_type": "code",
   "execution_count": 195,
   "metadata": {},
   "outputs": [],
   "source": [
    "cities21 = read_matrix('test/21_test.txt') #2707"
   ]
  },
  {
   "cell_type": "code",
   "execution_count": 196,
   "metadata": {},
   "outputs": [
    {
     "name": "stdout",
     "output_type": "stream",
     "text": [
      "[6, 11, 18, 16, 9, 14, 1, 20, 7, 5, 15, 4, 8, 2, 13, 12, 17, 19, 10, 3] 3531\n"
     ]
    }
   ],
   "source": [
    "tour, length = SimulatedAnnealing(cities=cities21, init_T=10**10, end_T=0.001, cooling_factor=cooling_factor)\n",
    "print(tour, length)"
   ]
  }
 ],
 "metadata": {
  "kernelspec": {
   "display_name": "Python 3",
   "language": "python",
   "name": "python3"
  },
  "language_info": {
   "codemirror_mode": {
    "name": "ipython",
    "version": 3
   },
   "file_extension": ".py",
   "mimetype": "text/x-python",
   "name": "python",
   "nbconvert_exporter": "python",
   "pygments_lexer": "ipython3",
   "version": "3.6.7"
  }
 },
 "nbformat": 4,
 "nbformat_minor": 2
}
